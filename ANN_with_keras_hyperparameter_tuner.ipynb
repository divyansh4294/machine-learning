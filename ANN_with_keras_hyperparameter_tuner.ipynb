{
  "nbformat": 4,
  "nbformat_minor": 0,
  "metadata": {
    "kernelspec": {
      "display_name": "Python 3",
      "language": "python",
      "name": "python3"
    },
    "language_info": {
      "codemirror_mode": {
        "name": "ipython",
        "version": 3
      },
      "file_extension": ".py",
      "mimetype": "text/x-python",
      "name": "python",
      "nbconvert_exporter": "python",
      "pygments_lexer": "ipython3",
      "version": "3.7.4"
    },
    "colab": {
      "name": "ANN.ipynb",
      "provenance": [],
      "collapsed_sections": [],
      "include_colab_link": true
    }
  },
  "cells": [
    {
      "cell_type": "markdown",
      "metadata": {
        "id": "view-in-github",
        "colab_type": "text"
      },
      "source": [
        "<a href=\"https://colab.research.google.com/github/divyansh4294/machine-learning/blob/main/ANN_with_keras_hyperparameter_tuner.ipynb\" target=\"_parent\"><img src=\"https://colab.research.google.com/assets/colab-badge.svg\" alt=\"Open In Colab\"/></a>"
      ]
    },
    {
      "cell_type": "markdown",
      "metadata": {
        "id": "MgQZvOaQ0umO"
      },
      "source": [
        "**Import Library**"
      ]
    },
    {
      "cell_type": "code",
      "metadata": {
        "id": "a25IqCVJSs9Y"
      },
      "source": [
        "\"\"\"\n",
        "@author = Divyansh.Gupta\n",
        "\"\"\"\n",
        "import pandas as pd\n",
        "import numpy as np\n",
        "import matplotlib.pyplot as plt"
      ],
      "execution_count": 18,
      "outputs": []
    },
    {
      "cell_type": "markdown",
      "metadata": {
        "id": "dUurV4Ik0z55"
      },
      "source": [
        "Taking churn modelling dataset which is easily available at kaggle [CLICK HERE](https://www.kaggle.com/shrutimechlearn/churn-modelling) to download"
      ]
    },
    {
      "cell_type": "code",
      "metadata": {
        "colab": {
          "base_uri": "https://localhost:8080/",
          "height": 224
        },
        "id": "bsHYSHsNSs9f",
        "outputId": "d535b07f-8344-49fc-a53d-74e970c97ed2"
      },
      "source": [
        "data = pd.read_csv(\"Churn_Modelling.csv\")\n",
        "data.head(5)"
      ],
      "execution_count": 4,
      "outputs": [
        {
          "output_type": "execute_result",
          "data": {
            "text/html": [
              "<div>\n",
              "<style scoped>\n",
              "    .dataframe tbody tr th:only-of-type {\n",
              "        vertical-align: middle;\n",
              "    }\n",
              "\n",
              "    .dataframe tbody tr th {\n",
              "        vertical-align: top;\n",
              "    }\n",
              "\n",
              "    .dataframe thead th {\n",
              "        text-align: right;\n",
              "    }\n",
              "</style>\n",
              "<table border=\"1\" class=\"dataframe\">\n",
              "  <thead>\n",
              "    <tr style=\"text-align: right;\">\n",
              "      <th></th>\n",
              "      <th>RowNumber</th>\n",
              "      <th>CustomerId</th>\n",
              "      <th>Surname</th>\n",
              "      <th>CreditScore</th>\n",
              "      <th>Geography</th>\n",
              "      <th>Gender</th>\n",
              "      <th>Age</th>\n",
              "      <th>Tenure</th>\n",
              "      <th>Balance</th>\n",
              "      <th>NumOfProducts</th>\n",
              "      <th>HasCrCard</th>\n",
              "      <th>IsActiveMember</th>\n",
              "      <th>EstimatedSalary</th>\n",
              "      <th>Exited</th>\n",
              "    </tr>\n",
              "  </thead>\n",
              "  <tbody>\n",
              "    <tr>\n",
              "      <th>0</th>\n",
              "      <td>1</td>\n",
              "      <td>15634602</td>\n",
              "      <td>Hargrave</td>\n",
              "      <td>619</td>\n",
              "      <td>France</td>\n",
              "      <td>Female</td>\n",
              "      <td>42</td>\n",
              "      <td>2</td>\n",
              "      <td>0.00</td>\n",
              "      <td>1</td>\n",
              "      <td>1</td>\n",
              "      <td>1</td>\n",
              "      <td>101348.88</td>\n",
              "      <td>1</td>\n",
              "    </tr>\n",
              "    <tr>\n",
              "      <th>1</th>\n",
              "      <td>2</td>\n",
              "      <td>15647311</td>\n",
              "      <td>Hill</td>\n",
              "      <td>608</td>\n",
              "      <td>Spain</td>\n",
              "      <td>Female</td>\n",
              "      <td>41</td>\n",
              "      <td>1</td>\n",
              "      <td>83807.86</td>\n",
              "      <td>1</td>\n",
              "      <td>0</td>\n",
              "      <td>1</td>\n",
              "      <td>112542.58</td>\n",
              "      <td>0</td>\n",
              "    </tr>\n",
              "    <tr>\n",
              "      <th>2</th>\n",
              "      <td>3</td>\n",
              "      <td>15619304</td>\n",
              "      <td>Onio</td>\n",
              "      <td>502</td>\n",
              "      <td>France</td>\n",
              "      <td>Female</td>\n",
              "      <td>42</td>\n",
              "      <td>8</td>\n",
              "      <td>159660.80</td>\n",
              "      <td>3</td>\n",
              "      <td>1</td>\n",
              "      <td>0</td>\n",
              "      <td>113931.57</td>\n",
              "      <td>1</td>\n",
              "    </tr>\n",
              "    <tr>\n",
              "      <th>3</th>\n",
              "      <td>4</td>\n",
              "      <td>15701354</td>\n",
              "      <td>Boni</td>\n",
              "      <td>699</td>\n",
              "      <td>France</td>\n",
              "      <td>Female</td>\n",
              "      <td>39</td>\n",
              "      <td>1</td>\n",
              "      <td>0.00</td>\n",
              "      <td>2</td>\n",
              "      <td>0</td>\n",
              "      <td>0</td>\n",
              "      <td>93826.63</td>\n",
              "      <td>0</td>\n",
              "    </tr>\n",
              "    <tr>\n",
              "      <th>4</th>\n",
              "      <td>5</td>\n",
              "      <td>15737888</td>\n",
              "      <td>Mitchell</td>\n",
              "      <td>850</td>\n",
              "      <td>Spain</td>\n",
              "      <td>Female</td>\n",
              "      <td>43</td>\n",
              "      <td>2</td>\n",
              "      <td>125510.82</td>\n",
              "      <td>1</td>\n",
              "      <td>1</td>\n",
              "      <td>1</td>\n",
              "      <td>79084.10</td>\n",
              "      <td>0</td>\n",
              "    </tr>\n",
              "  </tbody>\n",
              "</table>\n",
              "</div>"
            ],
            "text/plain": [
              "   RowNumber  CustomerId   Surname  ...  IsActiveMember EstimatedSalary Exited\n",
              "0          1    15634602  Hargrave  ...               1       101348.88      1\n",
              "1          2    15647311      Hill  ...               1       112542.58      0\n",
              "2          3    15619304      Onio  ...               0       113931.57      1\n",
              "3          4    15701354      Boni  ...               0        93826.63      0\n",
              "4          5    15737888  Mitchell  ...               1        79084.10      0\n",
              "\n",
              "[5 rows x 14 columns]"
            ]
          },
          "metadata": {
            "tags": []
          },
          "execution_count": 4
        }
      ]
    },
    {
      "cell_type": "markdown",
      "metadata": {
        "id": "HmPW58jj1Yrl"
      },
      "source": [
        "# Data Description\n",
        "\n",
        "This data set contains details of a bank's customers and the target variable is a binary variable reflecting the fact whether the customer left the bank (closed his account) or he continues to be a customer. As all the variable are self explainatory itself. So the target variable is EXITED.\n",
        "\n",
        "1. 'RowNumber': Row Numbers from 1 to 10000\n",
        "2. 'CustomerId': Unique Ids for bank customer identification\n",
        "3. 'Surname': Customer's last name\n",
        "4. 'CreditScore': Credit score of the customer\n",
        "5. 'Geography': The country from which the customer belongs\n",
        "6. 'Gender': Male or Female\n",
        "7. 'Age': Age of the customer\n",
        "8. 'Tenure': Number of years for which the customer has been with the bank\n",
        "9. 'Balance': Bank balance of the customer\n",
        "10. 'NumOfProducts': Number of bank products the customer is utilising\n",
        "11. 'HasCrCard': Binary Flag for whether the customer holds a credit card with the bank or not\n",
        "12. 'IsActiveMember': Binary Flag for whether the customer is an active member with the bank or not\n",
        "13. 'EstimatedSalary': Estimated salary of the customer in Dollars\n",
        "14. 'Exited': Binary flag 1 if the customer closed account with bank and 0 if the customer is retained\n",
        "\n"
      ]
    },
    {
      "cell_type": "code",
      "metadata": {
        "colab": {
          "base_uri": "https://localhost:8080/"
        },
        "id": "eOHhI3O9Ss9g",
        "outputId": "0c3fa34a-6845-43da-e0c8-e4bd8f727b29"
      },
      "source": [
        "print(\"Shape of Dataset:\",data.shape)"
      ],
      "execution_count": 8,
      "outputs": [
        {
          "output_type": "stream",
          "text": [
            "Shape of Dataset: (10000, 14)\n"
          ],
          "name": "stdout"
        }
      ]
    },
    {
      "cell_type": "code",
      "metadata": {
        "colab": {
          "base_uri": "https://localhost:8080/"
        },
        "id": "-AoV6LGqSs9h",
        "outputId": "44196cc7-80bf-44e0-ddb3-7ca445c28edc"
      },
      "source": [
        "# Removed Rownumber, CustomerID, Surname which doesn't have relevence\n",
        "X = data.iloc[:, 3:13]\n",
        "Y = data.iloc[:,-1]\n",
        "print(\"Independent Features:\",X.columns)\n",
        "print(\"Dependent Features:\",Y.name)"
      ],
      "execution_count": 12,
      "outputs": [
        {
          "output_type": "stream",
          "text": [
            "Independent Features: Index(['CreditScore', 'Geography', 'Gender', 'Age', 'Tenure', 'Balance',\n",
            "       'NumOfProducts', 'HasCrCard', 'IsActiveMember', 'EstimatedSalary'],\n",
            "      dtype='object')\n",
            "Dependent Features: Exited\n"
          ],
          "name": "stdout"
        }
      ]
    },
    {
      "cell_type": "code",
      "metadata": {
        "id": "Ks5zIYDm44om"
      },
      "source": [
        ""
      ],
      "execution_count": null,
      "outputs": []
    },
    {
      "cell_type": "markdown",
      "metadata": {
        "id": "QhIV6Hnq45K9"
      },
      "source": [
        "Now Geography and Gender are categorical variable so we need to convert them into numerical form. As algorithm didn't work well with categorical variables so we need to convert into vector form for that we used get_dummies function from pandas"
      ]
    },
    {
      "cell_type": "code",
      "metadata": {
        "id": "VSGMPw0hSs9h"
      },
      "source": [
        "geo = pd.get_dummies(data['Geography'],drop_first=True)\n",
        "gen = pd.get_dummies(data['Gender'],drop_first=True)"
      ],
      "execution_count": 14,
      "outputs": []
    },
    {
      "cell_type": "markdown",
      "metadata": {
        "id": "ftA3PFcR549l"
      },
      "source": [
        "Now we are adding both numerical features to the main dataset and drop the categorical one"
      ]
    },
    {
      "cell_type": "code",
      "metadata": {
        "id": "ojQGVgtrSs9i"
      },
      "source": [
        "X = pd.concat([X,geo,gen],axis=1)\n",
        "X = X.drop(['Geography','Gender'],axis=1)"
      ],
      "execution_count": 15,
      "outputs": []
    },
    {
      "cell_type": "markdown",
      "metadata": {
        "id": "vQOTkEou6KCG"
      },
      "source": [
        "Its time to split the dataset into training and testing dataset and we are considering 25% dataset for testing purpose with ) random state(random_state is the seed used by the random number generator)"
      ]
    },
    {
      "cell_type": "code",
      "metadata": {
        "id": "CgmToye7Ss9i"
      },
      "source": [
        "from sklearn.model_selection import train_test_split\n",
        "X_train, X_test, Y_train, Y_test = train_test_split(X,Y,test_size=0.25, random_state=0)"
      ],
      "execution_count": 16,
      "outputs": []
    },
    {
      "cell_type": "markdown",
      "metadata": {
        "id": "XP2kPOjJ6uwE"
      },
      "source": [
        "Now we have to scale our training and testing dataset into a range because it helps us in preventing vanishing gradient problem or exploading gradient problem."
      ]
    },
    {
      "cell_type": "code",
      "metadata": {
        "id": "Xv81TwLLSs9i"
      },
      "source": [
        "from sklearn.preprocessing import StandardScaler\n",
        "sc = StandardScaler()\n",
        "X_train = sc.fit_transform(X_train)\n",
        "X_test = sc.transform(X_test)"
      ],
      "execution_count": 19,
      "outputs": []
    },
    {
      "cell_type": "code",
      "metadata": {
        "id": "-5tD8VVSSs9j"
      },
      "source": [
        "import keras\n",
        "from keras.models import Sequential\n",
        "from keras.layers import Dropout, Dense, Flatten, LeakyReLU, ReLU, PReLU"
      ],
      "execution_count": 20,
      "outputs": []
    },
    {
      "cell_type": "code",
      "metadata": {
        "colab": {
          "base_uri": "https://localhost:8080/"
        },
        "id": "ai5KDowtSs9j",
        "outputId": "2008f322-c7ec-4bf9-efda-a7835adf3a91"
      },
      "source": [
        "print(\"Shape of training dataset\",X_train.shape)"
      ],
      "execution_count": 22,
      "outputs": [
        {
          "output_type": "stream",
          "text": [
            "Shape of training dataset (7500, 11)\n"
          ],
          "name": "stdout"
        }
      ]
    },
    {
      "cell_type": "code",
      "metadata": {
        "id": "-pkHgv0RSs9j"
      },
      "source": [
        "# We are initiallizing the a sequential model\n",
        "classifier = Sequential()\n",
        "# Adding first dense layer to our neural network which is having input dimensions = number of independent features we have  \n",
        "# kernel initializer is he_uniform or we can use he_normal as well and. \n",
        "# the activation function is relu as it works well in dense layers\n",
        "# the output units are 6, you can change to any number \n",
        "classifier.add(Dense(units = 6, kernel_initializer=\"he_uniform\",activation=\"relu\",input_dim = 11))\n",
        "# Adding second dense layer to our neural network which is having same configuration\n",
        "classifier.add(Dense(units = 6, kernel_initializer=\"he_uniform\",activation=\"relu\"))\n",
        "# adding third dense layer having 1 output neuron with sigmoid activation funtion as we have only two classes to classify\n",
        "# if classes to classify are more than 3 then we can use Softmax as an activation function\n",
        "classifier.add(Dense(units = 1, kernel_initializer=\"glorot_uniform\",activation=\"sigmoid\"))\n",
        "# its time to compile the whole model with optimizer.\n",
        "# we are taking adam as an optimizer because this can dynamically adjust the learning rate along with momentum\n",
        "# Used binary crossentropy as loss function \n",
        "classifier.compile(optimizer = \"adam\", loss=\"binary_crossentropy\",metrics=['accuracy'])"
      ],
      "execution_count": 23,
      "outputs": []
    },
    {
      "cell_type": "code",
      "metadata": {
        "colab": {
          "base_uri": "https://localhost:8080/"
        },
        "id": "jfb8tDYISs9k",
        "outputId": "d334ac3b-4ed5-44b8-9430-4d2fe4f4d0c4"
      },
      "source": [
        "# Model training \n",
        "mod_his = classifier.fit(X_train,Y_train,validation_split=0.33,batch_size=10,epochs=100)"
      ],
      "execution_count": 24,
      "outputs": [
        {
          "output_type": "stream",
          "text": [
            "Epoch 1/100\n",
            "503/503 [==============================] - 2s 2ms/step - loss: 0.6692 - accuracy: 0.6172 - val_loss: 0.4779 - val_accuracy: 0.8045\n",
            "Epoch 2/100\n",
            "503/503 [==============================] - 1s 1ms/step - loss: 0.4703 - accuracy: 0.8030 - val_loss: 0.4512 - val_accuracy: 0.8061\n",
            "Epoch 3/100\n",
            "503/503 [==============================] - 1s 2ms/step - loss: 0.4340 - accuracy: 0.8189 - val_loss: 0.4412 - val_accuracy: 0.8078\n",
            "Epoch 4/100\n",
            "503/503 [==============================] - 1s 1ms/step - loss: 0.4246 - accuracy: 0.8203 - val_loss: 0.4342 - val_accuracy: 0.8106\n",
            "Epoch 5/100\n",
            "503/503 [==============================] - 1s 1ms/step - loss: 0.4161 - accuracy: 0.8265 - val_loss: 0.4278 - val_accuracy: 0.8150\n",
            "Epoch 6/100\n",
            "503/503 [==============================] - 1s 1ms/step - loss: 0.4081 - accuracy: 0.8239 - val_loss: 0.4182 - val_accuracy: 0.8162\n",
            "Epoch 7/100\n",
            "503/503 [==============================] - 1s 1ms/step - loss: 0.4070 - accuracy: 0.8290 - val_loss: 0.4098 - val_accuracy: 0.8170\n",
            "Epoch 8/100\n",
            "503/503 [==============================] - 1s 1ms/step - loss: 0.3776 - accuracy: 0.8437 - val_loss: 0.3974 - val_accuracy: 0.8275\n",
            "Epoch 9/100\n",
            "503/503 [==============================] - 1s 1ms/step - loss: 0.3568 - accuracy: 0.8554 - val_loss: 0.3881 - val_accuracy: 0.8380\n",
            "Epoch 10/100\n",
            "503/503 [==============================] - 1s 1ms/step - loss: 0.3576 - accuracy: 0.8536 - val_loss: 0.3786 - val_accuracy: 0.8469\n",
            "Epoch 11/100\n",
            "503/503 [==============================] - 1s 1ms/step - loss: 0.3488 - accuracy: 0.8557 - val_loss: 0.3746 - val_accuracy: 0.8433\n",
            "Epoch 12/100\n",
            "503/503 [==============================] - 1s 1ms/step - loss: 0.3392 - accuracy: 0.8630 - val_loss: 0.3716 - val_accuracy: 0.8481\n",
            "Epoch 13/100\n",
            "503/503 [==============================] - 1s 1ms/step - loss: 0.3412 - accuracy: 0.8637 - val_loss: 0.3699 - val_accuracy: 0.8502\n",
            "Epoch 14/100\n",
            "503/503 [==============================] - 1s 1ms/step - loss: 0.3346 - accuracy: 0.8562 - val_loss: 0.3697 - val_accuracy: 0.8481\n",
            "Epoch 15/100\n",
            "503/503 [==============================] - 1s 1ms/step - loss: 0.3463 - accuracy: 0.8590 - val_loss: 0.3682 - val_accuracy: 0.8498\n",
            "Epoch 16/100\n",
            "503/503 [==============================] - 1s 1ms/step - loss: 0.3415 - accuracy: 0.8572 - val_loss: 0.3685 - val_accuracy: 0.8494\n",
            "Epoch 17/100\n",
            "503/503 [==============================] - 1s 1ms/step - loss: 0.3419 - accuracy: 0.8582 - val_loss: 0.3675 - val_accuracy: 0.8502\n",
            "Epoch 18/100\n",
            "503/503 [==============================] - 1s 1ms/step - loss: 0.3369 - accuracy: 0.8640 - val_loss: 0.3673 - val_accuracy: 0.8502\n",
            "Epoch 19/100\n",
            "503/503 [==============================] - 1s 1ms/step - loss: 0.3373 - accuracy: 0.8582 - val_loss: 0.3663 - val_accuracy: 0.8518\n",
            "Epoch 20/100\n",
            "503/503 [==============================] - 1s 1ms/step - loss: 0.3207 - accuracy: 0.8707 - val_loss: 0.3673 - val_accuracy: 0.8489\n",
            "Epoch 21/100\n",
            "503/503 [==============================] - 1s 1ms/step - loss: 0.3471 - accuracy: 0.8563 - val_loss: 0.3652 - val_accuracy: 0.8546\n",
            "Epoch 22/100\n",
            "503/503 [==============================] - 1s 1ms/step - loss: 0.3270 - accuracy: 0.8677 - val_loss: 0.3667 - val_accuracy: 0.8538\n",
            "Epoch 23/100\n",
            "503/503 [==============================] - 1s 1ms/step - loss: 0.3249 - accuracy: 0.8675 - val_loss: 0.3678 - val_accuracy: 0.8502\n",
            "Epoch 24/100\n",
            "503/503 [==============================] - 1s 1ms/step - loss: 0.3336 - accuracy: 0.8619 - val_loss: 0.3652 - val_accuracy: 0.8538\n",
            "Epoch 25/100\n",
            "503/503 [==============================] - 1s 1ms/step - loss: 0.3320 - accuracy: 0.8606 - val_loss: 0.3642 - val_accuracy: 0.8542\n",
            "Epoch 26/100\n",
            "503/503 [==============================] - 1s 1ms/step - loss: 0.3390 - accuracy: 0.8572 - val_loss: 0.3638 - val_accuracy: 0.8530\n",
            "Epoch 27/100\n",
            "503/503 [==============================] - 1s 1ms/step - loss: 0.3431 - accuracy: 0.8611 - val_loss: 0.3651 - val_accuracy: 0.8534\n",
            "Epoch 28/100\n",
            "503/503 [==============================] - 1s 1ms/step - loss: 0.3346 - accuracy: 0.8633 - val_loss: 0.3627 - val_accuracy: 0.8554\n",
            "Epoch 29/100\n",
            "503/503 [==============================] - 1s 1ms/step - loss: 0.3246 - accuracy: 0.8691 - val_loss: 0.3641 - val_accuracy: 0.8542\n",
            "Epoch 30/100\n",
            "503/503 [==============================] - 1s 1ms/step - loss: 0.3301 - accuracy: 0.8634 - val_loss: 0.3639 - val_accuracy: 0.8522\n",
            "Epoch 31/100\n",
            "503/503 [==============================] - 1s 1ms/step - loss: 0.3356 - accuracy: 0.8637 - val_loss: 0.3646 - val_accuracy: 0.8562\n",
            "Epoch 32/100\n",
            "503/503 [==============================] - 1s 1ms/step - loss: 0.3275 - accuracy: 0.8689 - val_loss: 0.3643 - val_accuracy: 0.8534\n",
            "Epoch 33/100\n",
            "503/503 [==============================] - 1s 1ms/step - loss: 0.3172 - accuracy: 0.8688 - val_loss: 0.3635 - val_accuracy: 0.8574\n",
            "Epoch 34/100\n",
            "503/503 [==============================] - 1s 1ms/step - loss: 0.3327 - accuracy: 0.8652 - val_loss: 0.3634 - val_accuracy: 0.8566\n",
            "Epoch 35/100\n",
            "503/503 [==============================] - 1s 1ms/step - loss: 0.3133 - accuracy: 0.8742 - val_loss: 0.3634 - val_accuracy: 0.8534\n",
            "Epoch 36/100\n",
            "503/503 [==============================] - 1s 1ms/step - loss: 0.3467 - accuracy: 0.8571 - val_loss: 0.3627 - val_accuracy: 0.8558\n",
            "Epoch 37/100\n",
            "503/503 [==============================] - 1s 1ms/step - loss: 0.3238 - accuracy: 0.8693 - val_loss: 0.3630 - val_accuracy: 0.8570\n",
            "Epoch 38/100\n",
            "503/503 [==============================] - 1s 1ms/step - loss: 0.3331 - accuracy: 0.8650 - val_loss: 0.3624 - val_accuracy: 0.8562\n",
            "Epoch 39/100\n",
            "503/503 [==============================] - 1s 1ms/step - loss: 0.3323 - accuracy: 0.8678 - val_loss: 0.3625 - val_accuracy: 0.8562\n",
            "Epoch 40/100\n",
            "503/503 [==============================] - 1s 1ms/step - loss: 0.3340 - accuracy: 0.8666 - val_loss: 0.3626 - val_accuracy: 0.8570\n",
            "Epoch 41/100\n",
            "503/503 [==============================] - 1s 1ms/step - loss: 0.3326 - accuracy: 0.8672 - val_loss: 0.3610 - val_accuracy: 0.8554\n",
            "Epoch 42/100\n",
            "503/503 [==============================] - 1s 1ms/step - loss: 0.3247 - accuracy: 0.8713 - val_loss: 0.3646 - val_accuracy: 0.8498\n",
            "Epoch 43/100\n",
            "503/503 [==============================] - 1s 1ms/step - loss: 0.3334 - accuracy: 0.8606 - val_loss: 0.3613 - val_accuracy: 0.8558\n",
            "Epoch 44/100\n",
            "503/503 [==============================] - 1s 1ms/step - loss: 0.3314 - accuracy: 0.8656 - val_loss: 0.3622 - val_accuracy: 0.8562\n",
            "Epoch 45/100\n",
            "503/503 [==============================] - 1s 1ms/step - loss: 0.3295 - accuracy: 0.8621 - val_loss: 0.3613 - val_accuracy: 0.8566\n",
            "Epoch 46/100\n",
            "503/503 [==============================] - 1s 1ms/step - loss: 0.3291 - accuracy: 0.8626 - val_loss: 0.3615 - val_accuracy: 0.8562\n",
            "Epoch 47/100\n",
            "503/503 [==============================] - 1s 2ms/step - loss: 0.3362 - accuracy: 0.8633 - val_loss: 0.3591 - val_accuracy: 0.8554\n",
            "Epoch 48/100\n",
            "503/503 [==============================] - 1s 1ms/step - loss: 0.3378 - accuracy: 0.8560 - val_loss: 0.3610 - val_accuracy: 0.8514\n",
            "Epoch 49/100\n",
            "503/503 [==============================] - 1s 1ms/step - loss: 0.3311 - accuracy: 0.8602 - val_loss: 0.3609 - val_accuracy: 0.8558\n",
            "Epoch 50/100\n",
            "503/503 [==============================] - 1s 1ms/step - loss: 0.3323 - accuracy: 0.8656 - val_loss: 0.3620 - val_accuracy: 0.8558\n",
            "Epoch 51/100\n",
            "503/503 [==============================] - 1s 1ms/step - loss: 0.3239 - accuracy: 0.8668 - val_loss: 0.3595 - val_accuracy: 0.8558\n",
            "Epoch 52/100\n",
            "503/503 [==============================] - 1s 1ms/step - loss: 0.3402 - accuracy: 0.8583 - val_loss: 0.3603 - val_accuracy: 0.8570\n",
            "Epoch 53/100\n",
            "503/503 [==============================] - 1s 1ms/step - loss: 0.3186 - accuracy: 0.8698 - val_loss: 0.3592 - val_accuracy: 0.8562\n",
            "Epoch 54/100\n",
            "503/503 [==============================] - 1s 1ms/step - loss: 0.3349 - accuracy: 0.8639 - val_loss: 0.3612 - val_accuracy: 0.8522\n",
            "Epoch 55/100\n",
            "503/503 [==============================] - 1s 1ms/step - loss: 0.3288 - accuracy: 0.8634 - val_loss: 0.3591 - val_accuracy: 0.8566\n",
            "Epoch 56/100\n",
            "503/503 [==============================] - 1s 1ms/step - loss: 0.3304 - accuracy: 0.8648 - val_loss: 0.3614 - val_accuracy: 0.8574\n",
            "Epoch 57/100\n",
            "503/503 [==============================] - 1s 1ms/step - loss: 0.3323 - accuracy: 0.8599 - val_loss: 0.3622 - val_accuracy: 0.8542\n",
            "Epoch 58/100\n",
            "503/503 [==============================] - 1s 1ms/step - loss: 0.3301 - accuracy: 0.8650 - val_loss: 0.3589 - val_accuracy: 0.8570\n",
            "Epoch 59/100\n",
            "503/503 [==============================] - 1s 1ms/step - loss: 0.3274 - accuracy: 0.8664 - val_loss: 0.3633 - val_accuracy: 0.8570\n",
            "Epoch 60/100\n",
            "503/503 [==============================] - 1s 1ms/step - loss: 0.3251 - accuracy: 0.8702 - val_loss: 0.3594 - val_accuracy: 0.8554\n",
            "Epoch 61/100\n",
            "503/503 [==============================] - 1s 1ms/step - loss: 0.3347 - accuracy: 0.8619 - val_loss: 0.3597 - val_accuracy: 0.8558\n",
            "Epoch 62/100\n",
            "503/503 [==============================] - 1s 1ms/step - loss: 0.3339 - accuracy: 0.8666 - val_loss: 0.3586 - val_accuracy: 0.8603\n",
            "Epoch 63/100\n",
            "503/503 [==============================] - 1s 1ms/step - loss: 0.3283 - accuracy: 0.8633 - val_loss: 0.3589 - val_accuracy: 0.8566\n",
            "Epoch 64/100\n",
            "503/503 [==============================] - 1s 1ms/step - loss: 0.3255 - accuracy: 0.8693 - val_loss: 0.3586 - val_accuracy: 0.8603\n",
            "Epoch 65/100\n",
            "503/503 [==============================] - 1s 1ms/step - loss: 0.3292 - accuracy: 0.8662 - val_loss: 0.3589 - val_accuracy: 0.8570\n",
            "Epoch 66/100\n",
            "503/503 [==============================] - 1s 1ms/step - loss: 0.3195 - accuracy: 0.8738 - val_loss: 0.3572 - val_accuracy: 0.8603\n",
            "Epoch 67/100\n",
            "503/503 [==============================] - 1s 1ms/step - loss: 0.3397 - accuracy: 0.8668 - val_loss: 0.3586 - val_accuracy: 0.8550\n",
            "Epoch 68/100\n",
            "503/503 [==============================] - 1s 1ms/step - loss: 0.3253 - accuracy: 0.8680 - val_loss: 0.3589 - val_accuracy: 0.8578\n",
            "Epoch 69/100\n",
            "503/503 [==============================] - 1s 1ms/step - loss: 0.3361 - accuracy: 0.8601 - val_loss: 0.3590 - val_accuracy: 0.8554\n",
            "Epoch 70/100\n",
            "503/503 [==============================] - 1s 1ms/step - loss: 0.3317 - accuracy: 0.8656 - val_loss: 0.3577 - val_accuracy: 0.8562\n",
            "Epoch 71/100\n",
            "503/503 [==============================] - 1s 1ms/step - loss: 0.3338 - accuracy: 0.8580 - val_loss: 0.3581 - val_accuracy: 0.8570\n",
            "Epoch 72/100\n",
            "503/503 [==============================] - 1s 1ms/step - loss: 0.3280 - accuracy: 0.8651 - val_loss: 0.3573 - val_accuracy: 0.8570\n",
            "Epoch 73/100\n",
            "503/503 [==============================] - 1s 1ms/step - loss: 0.3266 - accuracy: 0.8685 - val_loss: 0.3601 - val_accuracy: 0.8570\n",
            "Epoch 74/100\n",
            "503/503 [==============================] - 1s 1ms/step - loss: 0.3402 - accuracy: 0.8632 - val_loss: 0.3590 - val_accuracy: 0.8582\n",
            "Epoch 75/100\n",
            "503/503 [==============================] - 1s 1ms/step - loss: 0.3216 - accuracy: 0.8697 - val_loss: 0.3572 - val_accuracy: 0.8550\n",
            "Epoch 76/100\n",
            "503/503 [==============================] - 1s 1ms/step - loss: 0.3280 - accuracy: 0.8724 - val_loss: 0.3558 - val_accuracy: 0.8582\n",
            "Epoch 77/100\n",
            "503/503 [==============================] - 1s 1ms/step - loss: 0.3219 - accuracy: 0.8682 - val_loss: 0.3584 - val_accuracy: 0.8566\n",
            "Epoch 78/100\n",
            "503/503 [==============================] - 1s 1ms/step - loss: 0.3188 - accuracy: 0.8699 - val_loss: 0.3566 - val_accuracy: 0.8586\n",
            "Epoch 79/100\n",
            "503/503 [==============================] - 1s 1ms/step - loss: 0.3271 - accuracy: 0.8704 - val_loss: 0.3560 - val_accuracy: 0.8586\n",
            "Epoch 80/100\n",
            "503/503 [==============================] - 1s 1ms/step - loss: 0.3257 - accuracy: 0.8649 - val_loss: 0.3550 - val_accuracy: 0.8590\n",
            "Epoch 81/100\n",
            "503/503 [==============================] - 1s 1ms/step - loss: 0.3229 - accuracy: 0.8707 - val_loss: 0.3585 - val_accuracy: 0.8542\n",
            "Epoch 82/100\n",
            "503/503 [==============================] - 1s 1ms/step - loss: 0.3293 - accuracy: 0.8611 - val_loss: 0.3590 - val_accuracy: 0.8586\n",
            "Epoch 83/100\n",
            "503/503 [==============================] - 1s 1ms/step - loss: 0.3173 - accuracy: 0.8729 - val_loss: 0.3575 - val_accuracy: 0.8582\n",
            "Epoch 84/100\n",
            "503/503 [==============================] - 1s 1ms/step - loss: 0.3258 - accuracy: 0.8614 - val_loss: 0.3568 - val_accuracy: 0.8578\n",
            "Epoch 85/100\n",
            "503/503 [==============================] - 1s 1ms/step - loss: 0.3112 - accuracy: 0.8745 - val_loss: 0.3563 - val_accuracy: 0.8570\n",
            "Epoch 86/100\n",
            "503/503 [==============================] - 1s 1ms/step - loss: 0.3231 - accuracy: 0.8687 - val_loss: 0.3560 - val_accuracy: 0.8599\n",
            "Epoch 87/100\n",
            "503/503 [==============================] - 1s 1ms/step - loss: 0.3263 - accuracy: 0.8673 - val_loss: 0.3562 - val_accuracy: 0.8603\n",
            "Epoch 88/100\n",
            "503/503 [==============================] - 1s 1ms/step - loss: 0.3337 - accuracy: 0.8611 - val_loss: 0.3554 - val_accuracy: 0.8586\n",
            "Epoch 89/100\n",
            "503/503 [==============================] - 1s 2ms/step - loss: 0.3262 - accuracy: 0.8654 - val_loss: 0.3565 - val_accuracy: 0.8615\n",
            "Epoch 90/100\n",
            "503/503 [==============================] - 1s 1ms/step - loss: 0.3224 - accuracy: 0.8710 - val_loss: 0.3558 - val_accuracy: 0.8603\n",
            "Epoch 91/100\n",
            "503/503 [==============================] - 1s 1ms/step - loss: 0.3235 - accuracy: 0.8635 - val_loss: 0.3553 - val_accuracy: 0.8582\n",
            "Epoch 92/100\n",
            "503/503 [==============================] - 1s 1ms/step - loss: 0.3189 - accuracy: 0.8651 - val_loss: 0.3550 - val_accuracy: 0.8607\n",
            "Epoch 93/100\n",
            "503/503 [==============================] - 1s 1ms/step - loss: 0.3154 - accuracy: 0.8741 - val_loss: 0.3567 - val_accuracy: 0.8603\n",
            "Epoch 94/100\n",
            "503/503 [==============================] - 1s 1ms/step - loss: 0.3265 - accuracy: 0.8609 - val_loss: 0.3558 - val_accuracy: 0.8586\n",
            "Epoch 95/100\n",
            "503/503 [==============================] - 1s 1ms/step - loss: 0.3263 - accuracy: 0.8689 - val_loss: 0.3561 - val_accuracy: 0.8590\n",
            "Epoch 96/100\n",
            "503/503 [==============================] - 1s 1ms/step - loss: 0.3243 - accuracy: 0.8669 - val_loss: 0.3567 - val_accuracy: 0.8603\n",
            "Epoch 97/100\n",
            "503/503 [==============================] - 1s 1ms/step - loss: 0.3133 - accuracy: 0.8735 - val_loss: 0.3560 - val_accuracy: 0.8619\n",
            "Epoch 98/100\n",
            "503/503 [==============================] - 1s 1ms/step - loss: 0.3207 - accuracy: 0.8689 - val_loss: 0.3562 - val_accuracy: 0.8586\n",
            "Epoch 99/100\n",
            "503/503 [==============================] - 1s 1ms/step - loss: 0.3237 - accuracy: 0.8678 - val_loss: 0.3568 - val_accuracy: 0.8599\n",
            "Epoch 100/100\n",
            "503/503 [==============================] - 1s 1ms/step - loss: 0.3235 - accuracy: 0.8690 - val_loss: 0.3575 - val_accuracy: 0.8607\n"
          ],
          "name": "stdout"
        }
      ]
    },
    {
      "cell_type": "code",
      "metadata": {
        "colab": {
          "base_uri": "https://localhost:8080/"
        },
        "id": "E1PHQAf9Ss9k",
        "outputId": "d1044d5b-7af5-4a9e-b55b-f041e2408eaa"
      },
      "source": [
        "# Showing all the parameters \n",
        "print(mod_his.history.keys())"
      ],
      "execution_count": 25,
      "outputs": [
        {
          "output_type": "stream",
          "text": [
            "dict_keys(['loss', 'accuracy', 'val_loss', 'val_accuracy'])\n"
          ],
          "name": "stdout"
        }
      ]
    },
    {
      "cell_type": "code",
      "metadata": {
        "colab": {
          "base_uri": "https://localhost:8080/",
          "height": 295
        },
        "id": "zQcOd6D0Ss9k",
        "outputId": "1aaa6b04-e55e-445e-de5f-ccfb072fdd99"
      },
      "source": [
        "# Plot the accuracy of model with respect to epochs during training and testing\n",
        "plt.plot(mod_his.history['accuracy'])\n",
        "plt.plot(mod_his.history['val_accuracy'])\n",
        "plt.title(\"Model Accuracy\")\n",
        "plt.xlabel(\"Epoch\")\n",
        "plt.ylabel(\"Accuracy\")\n",
        "plt.legend(['Train','Test'],loc=\"upper left\")\n",
        "plt.show()\n"
      ],
      "execution_count": 26,
      "outputs": [
        {
          "output_type": "display_data",
          "data": {
            "image/png": "[encoded data removed]",
            "text/plain": [
              "<Figure size 432x288 with 1 Axes>"
            ]
          },
          "metadata": {
            "tags": [],
            "needs_background": "light"
          }
        }
      ]
    },
    {
      "cell_type": "code",
      "metadata": {
        "colab": {
          "base_uri": "https://localhost:8080/",
          "height": 295
        },
        "id": "d-TcnqPASs9l",
        "outputId": "38d568ce-8c5b-4ee8-e6d2-23064d75a779"
      },
      "source": [
        "# Plot the loss of model with respect to epochs during training and testing\n",
        "\n",
        "plt.plot(mod_his.history['loss'])\n",
        "plt.plot(mod_his.history['val_loss'])\n",
        "plt.title(\"Model loss\")\n",
        "plt.xlabel(\"Epoch\")\n",
        "plt.ylabel(\"loss\")\n",
        "plt.legend(['Train','Test'],loc=\"upper left\")\n",
        "plt.show()"
      ],
      "execution_count": 27,
      "outputs": [
        {
          "output_type": "display_data",
          "data": {
            "image/png": "[encoded data removed]",
            "text/plain": [
              "<Figure size 432x288 with 1 Axes>"
            ]
          },
          "metadata": {
            "tags": [],
            "needs_background": "light"
          }
        }
      ]
    },
    {
      "cell_type": "code",
      "metadata": {
        "id": "GKo-j26sSs9l"
      },
      "source": [
        "# Predict the values for testing set and if the probability is more than 0.5 make it true else false\n",
        "y_pred = classifier.predict(X_test)\n",
        "y_pred = (y_pred>0.5)"
      ],
      "execution_count": 28,
      "outputs": []
    },
    {
      "cell_type": "code",
      "metadata": {
        "id": "R1yHqM4NSs9l"
      },
      "source": [
        "# Draw confusion matrix\n",
        "from sklearn.metrics import confusion_matrix\n",
        "cm = confusion_matrix(Y_test,y_pred)\n"
      ],
      "execution_count": 29,
      "outputs": []
    },
    {
      "cell_type": "code",
      "metadata": {
        "colab": {
          "base_uri": "https://localhost:8080/"
        },
        "id": "IGhnqn0XSs9l",
        "outputId": "a91eaf01-612d-452d-e533-5ea5ca5e74cd"
      },
      "source": [
        "cm"
      ],
      "execution_count": 30,
      "outputs": [
        {
          "output_type": "execute_result",
          "data": {
            "text/plain": [
              "array([[1881,  110],\n",
              "       [ 243,  266]])"
            ]
          },
          "metadata": {
            "tags": []
          },
          "execution_count": 30
        }
      ]
    },
    {
      "cell_type": "code",
      "metadata": {
        "colab": {
          "base_uri": "https://localhost:8080/"
        },
        "id": "9Nkwftn8Ss9m",
        "outputId": "1f1ce4fe-8613-438e-bfcc-ec6f864e13b8"
      },
      "source": [
        "# Accuracy of model overall\n",
        "from sklearn.metrics import accuracy_score\n",
        "acc_score = accuracy_score(y_pred,Y_test)\n",
        "acc_score"
      ],
      "execution_count": 31,
      "outputs": [
        {
          "output_type": "execute_result",
          "data": {
            "text/plain": [
              "0.8588"
            ]
          },
          "metadata": {
            "tags": []
          },
          "execution_count": 31
        }
      ]
    },
    {
      "cell_type": "code",
      "metadata": {
        "colab": {
          "base_uri": "https://localhost:8080/"
        },
        "id": "4_ZshG90UAdN",
        "outputId": "142a6cb7-749d-4ba2-e412-164e5d308e6b"
      },
      "source": [
        "# install keras tunre\n",
        "!pip install -U keras-tuner"
      ],
      "execution_count": 32,
      "outputs": [
        {
          "output_type": "stream",
          "text": [
            "Collecting keras-tuner\n",
            "\u001b[?25l  Downloading https://files.pythonhosted.org/packages/20/ec/1ef246787174b1e2bb591c95f29d3c1310070cad877824f907faba3dade9/keras-tuner-1.0.2.tar.gz (62kB)\n",
            "\r\u001b[K     |█████▏                          | 10kB 18.6MB/s eta 0:00:01\r\u001b[K     |██████████▍                     | 20kB 20.8MB/s eta 0:00:01\r\u001b[K     |███████████████▋                | 30kB 12.9MB/s eta 0:00:01\r\u001b[K     |████████████████████▉           | 40kB 6.5MB/s eta 0:00:01\r\u001b[K     |██████████████████████████      | 51kB 7.8MB/s eta 0:00:01\r\u001b[K     |███████████████████████████████▎| 61kB 9.1MB/s eta 0:00:01\r\u001b[K     |████████████████████████████████| 71kB 5.8MB/s \n",
            "\u001b[?25hRequirement already satisfied, skipping upgrade: packaging in /usr/local/lib/python3.6/dist-packages (from keras-tuner) (20.8)\n",
            "Requirement already satisfied, skipping upgrade: future in /usr/local/lib/python3.6/dist-packages (from keras-tuner) (0.16.0)\n",
            "Requirement already satisfied, skipping upgrade: numpy in /usr/local/lib/python3.6/dist-packages (from keras-tuner) (1.19.4)\n",
            "Requirement already satisfied, skipping upgrade: tabulate in /usr/local/lib/python3.6/dist-packages (from keras-tuner) (0.8.7)\n",
            "Collecting terminaltables\n",
            "  Downloading https://files.pythonhosted.org/packages/9b/c4/4a21174f32f8a7e1104798c445dacdc1d4df86f2f26722767034e4de4bff/terminaltables-3.1.0.tar.gz\n",
            "Collecting colorama\n",
            "  Downloading https://files.pythonhosted.org/packages/44/98/5b86278fbbf250d239ae0ecb724f8572af1c91f4a11edf4d36a206189440/colorama-0.4.4-py2.py3-none-any.whl\n",
            "Requirement already satisfied, skipping upgrade: tqdm in /usr/local/lib/python3.6/dist-packages (from keras-tuner) (4.41.1)\n",
            "Requirement already satisfied, skipping upgrade: requests in /usr/local/lib/python3.6/dist-packages (from keras-tuner) (2.23.0)\n",
            "Requirement already satisfied, skipping upgrade: scipy in /usr/local/lib/python3.6/dist-packages (from keras-tuner) (1.4.1)\n",
            "Requirement already satisfied, skipping upgrade: scikit-learn in /usr/local/lib/python3.6/dist-packages (from keras-tuner) (0.22.2.post1)\n",
            "Requirement already satisfied, skipping upgrade: pyparsing>=2.0.2 in /usr/local/lib/python3.6/dist-packages (from packaging->keras-tuner) (2.4.7)\n",
            "Requirement already satisfied, skipping upgrade: idna<3,>=2.5 in /usr/local/lib/python3.6/dist-packages (from requests->keras-tuner) (2.10)\n",
            "Requirement already satisfied, skipping upgrade: certifi>=2017.4.17 in /usr/local/lib/python3.6/dist-packages (from requests->keras-tuner) (2020.12.5)\n",
            "Requirement already satisfied, skipping upgrade: urllib3!=1.25.0,!=1.25.1,<1.26,>=1.21.1 in /usr/local/lib/python3.6/dist-packages (from requests->keras-tuner) (1.24.3)\n",
            "Requirement already satisfied, skipping upgrade: chardet<4,>=3.0.2 in /usr/local/lib/python3.6/dist-packages (from requests->keras-tuner) (3.0.4)\n",
            "Requirement already satisfied, skipping upgrade: joblib>=0.11 in /usr/local/lib/python3.6/dist-packages (from scikit-learn->keras-tuner) (1.0.0)\n",
            "Building wheels for collected packages: keras-tuner, terminaltables\n",
            "  Building wheel for keras-tuner (setup.py) ... \u001b[?25l\u001b[?25hdone\n",
            "  Created wheel for keras-tuner: filename=keras_tuner-1.0.2-cp36-none-any.whl size=78939 sha256=c731b19d7938ec648b3fc4d62ca2b2d3ab4f815060c1a684f174c9c13d49521f\n",
            "  Stored in directory: /root/.cache/pip/wheels/bb/a1/8a/7c3de0efb3707a1701b36ebbfdbc4e67aedf6d4943a1f463d6\n",
            "  Building wheel for terminaltables (setup.py) ... \u001b[?25l\u001b[?25hdone\n",
            "  Created wheel for terminaltables: filename=terminaltables-3.1.0-cp36-none-any.whl size=15358 sha256=df28c64c5307386858f3f3d0de3d343035d88d07f937ec2335151620493db0d5\n",
            "  Stored in directory: /root/.cache/pip/wheels/30/6b/50/6c75775b681fb36cdfac7f19799888ef9d8813aff9e379663e\n",
            "Successfully built keras-tuner terminaltables\n",
            "Installing collected packages: terminaltables, colorama, keras-tuner\n",
            "Successfully installed colorama-0.4.4 keras-tuner-1.0.2 terminaltables-3.1.0\n"
          ],
          "name": "stdout"
        }
      ]
    },
    {
      "cell_type": "code",
      "metadata": {
        "id": "RwiZ3GvRSs9m"
      },
      "source": [
        "# Import tensorflow and tuners\n",
        "from tensorflow import keras\n",
        "from tensorflow.keras import layers\n",
        "from kerastuner.tuners import RandomSearch"
      ],
      "execution_count": 33,
      "outputs": []
    },
    {
      "cell_type": "code",
      "metadata": {
        "id": "dtJNQ0vjSs9m"
      },
      "source": [
        "# Building model\n",
        "# Initialise keras sequential model\n",
        "def build_model(hp):\n",
        "  # Initialise keras sequential model\n",
        "  model = keras.Sequential()\n",
        "  # create a loop around for number of layers between 2 to 20\n",
        "  for i in range(hp.Int(\"num_layers\",2,20)):\n",
        "    # Adding dense layer having neuron between 32 to 512 per layer\n",
        "    model.add(layers.Dense(units=hp.Int('units_'+ str(i),\n",
        "                                        min_value=32,\n",
        "                                        max_value=512,\n",
        "                                        step=32),\n",
        "                           activation='relu'))\n",
        "    # Adding output layer having 1 neuron and sigmoid as activation function\n",
        "    model.add(layers.Dense(1, activation='sigmoid'))\n",
        "    # training model with learning rate which is changing 0.01,0.001,0.0001\n",
        "    model.compile(optimizer=keras.optimizers.Adam(\n",
        "        hp.Choice('learning_rate',\n",
        "                  values=[1e-2, 1e-3, 1e-4])),\n",
        "                  loss='binary_crossentropy',\n",
        "                  metrics=['accuracy'])\n",
        "  return model"
      ],
      "execution_count": 34,
      "outputs": []
    },
    {
      "cell_type": "code",
      "metadata": {
        "id": "gN_Mik4ISs9n"
      },
      "source": [
        "# RandomSearch as keras tuner having 5 trials with different parameters\n",
        "tuner = RandomSearch(\n",
        "    build_model,\n",
        "    objective='val_accuracy',\n",
        "    max_trials=5,\n",
        "    executions_per_trial=3,\n",
        "    directory='Hyperparameter',\n",
        "    project_name='Tuner')"
      ],
      "execution_count": 35,
      "outputs": []
    },
    {
      "cell_type": "code",
      "metadata": {
        "colab": {
          "base_uri": "https://localhost:8080/"
        },
        "id": "JU7pBhurSs9n",
        "outputId": "0764e373-5695-434f-8b50-457fce7754c6"
      },
      "source": [
        "# gives the summary of tuner\n",
        "# number of layer min:2, max:20, step size: 1 \n",
        "# Number of neuron in each layer min: 32, max:512, step size: 32\n",
        "# Learning rate choose 1 in 0.01,0.001,0.0001\n",
        "# Output layer having min:32, max:512, step:32\n",
        "tuner.search_space_summary()"
      ],
      "execution_count": 37,
      "outputs": [
        {
          "output_type": "stream",
          "text": [
            "Search space summary\n",
            "Default search space size: 4\n",
            "num_layers (Int)\n",
            "{'default': None, 'conditions': [], 'min_value': 2, 'max_value': 20, 'step': 1, 'sampling': None}\n",
            "units_0 (Int)\n",
            "{'default': None, 'conditions': [], 'min_value': 32, 'max_value': 512, 'step': 32, 'sampling': None}\n",
            "learning_rate (Choice)\n",
            "{'default': 0.01, 'conditions': [], 'values': [0.01, 0.001, 0.0001], 'ordered': True}\n",
            "units_1 (Int)\n",
            "{'default': None, 'conditions': [], 'min_value': 32, 'max_value': 512, 'step': 32, 'sampling': None}\n"
          ],
          "name": "stdout"
        }
      ]
    },
    {
      "cell_type": "code",
      "metadata": {
        "id": "XCpo6j67Ss9n"
      },
      "source": [
        "\n",
        "from sklearn.model_selection import train_test_split\n",
        "X_train, X_test, Y_train, Y_test = train_test_split(X,Y,test_size=0.25, random_state=0)"
      ],
      "execution_count": 38,
      "outputs": []
    },
    {
      "cell_type": "code",
      "metadata": {
        "colab": {
          "base_uri": "https://localhost:8080/"
        },
        "id": "9caigP-sSs9n",
        "outputId": "6d6d2583-d6ed-4d95-eb25-2056198d3a92"
      },
      "source": [
        "tuner.search(X_train, Y_train,\n",
        "             epochs=10,\n",
        "             validation_data=(X_test,Y_test))"
      ],
      "execution_count": 39,
      "outputs": [
        {
          "output_type": "stream",
          "text": [
            "Trial 5 Complete [00h 00m 33s]\n",
            "val_accuracy: 0.7964000105857849\n",
            "\n",
            "Best val_accuracy So Far: 0.7964000105857849\n",
            "Total elapsed time: 00h 02m 03s\n",
            "INFO:tensorflow:Oracle triggered exit\n"
          ],
          "name": "stdout"
        }
      ]
    },
    {
      "cell_type": "code",
      "metadata": {
        "id": "JGm-sdVUSs9o"
      },
      "source": [
        "models = tuner.get_best_models(num_models=3)"
      ],
      "execution_count": 40,
      "outputs": []
    },
    {
      "cell_type": "code",
      "metadata": {
        "colab": {
          "base_uri": "https://localhost:8080/"
        },
        "id": "4mvxwqaQU9Tw",
        "outputId": "b112da44-746c-46ec-a659-16cf18231ba5"
      },
      "source": [
        "tuner.results_summary()"
      ],
      "execution_count": 42,
      "outputs": [
        {
          "output_type": "stream",
          "text": [
            "Results summary\n",
            "Results in Hyperparameter/Tuner\n",
            "Showing 10 best trials\n",
            "Objective(name='val_accuracy', direction='max')\n",
            "Trial summary\n",
            "Hyperparameters:\n",
            "num_layers: 20\n",
            "units_0: 128\n",
            "learning_rate: 0.001\n",
            "units_1: 160\n",
            "units_2: 32\n",
            "units_3: 32\n",
            "units_4: 32\n",
            "units_5: 32\n",
            "units_6: 32\n",
            "units_7: 32\n",
            "units_8: 32\n",
            "units_9: 32\n",
            "units_10: 32\n",
            "units_11: 32\n",
            "units_12: 32\n",
            "units_13: 32\n",
            "units_14: 32\n",
            "units_15: 32\n",
            "units_16: 32\n",
            "units_17: 32\n",
            "units_18: 32\n",
            "units_19: 32\n",
            "Score: 0.7964000105857849\n",
            "Trial summary\n",
            "Hyperparameters:\n",
            "num_layers: 6\n",
            "units_0: 384\n",
            "learning_rate: 0.01\n",
            "units_1: 448\n",
            "units_2: 448\n",
            "units_3: 288\n",
            "units_4: 448\n",
            "units_5: 96\n",
            "units_6: 352\n",
            "units_7: 128\n",
            "units_8: 448\n",
            "units_9: 224\n",
            "units_10: 256\n",
            "units_11: 480\n",
            "units_12: 32\n",
            "units_13: 480\n",
            "units_14: 384\n",
            "units_15: 192\n",
            "units_16: 512\n",
            "units_17: 256\n",
            "units_18: 352\n",
            "units_19: 320\n",
            "Score: 0.7964000105857849\n",
            "Trial summary\n",
            "Hyperparameters:\n",
            "num_layers: 10\n",
            "units_0: 288\n",
            "learning_rate: 0.001\n",
            "units_1: 64\n",
            "units_2: 288\n",
            "units_3: 256\n",
            "units_4: 128\n",
            "units_5: 320\n",
            "units_6: 384\n",
            "units_7: 384\n",
            "units_8: 384\n",
            "units_9: 448\n",
            "units_10: 416\n",
            "units_11: 416\n",
            "units_12: 288\n",
            "units_13: 96\n",
            "units_14: 288\n",
            "units_15: 128\n",
            "units_16: 224\n",
            "units_17: 352\n",
            "units_18: 192\n",
            "units_19: 32\n",
            "Score: 0.7964000105857849\n",
            "Trial summary\n",
            "Hyperparameters:\n",
            "num_layers: 4\n",
            "units_0: 320\n",
            "learning_rate: 0.01\n",
            "units_1: 128\n",
            "units_2: 160\n",
            "units_3: 512\n",
            "units_4: 128\n",
            "units_5: 224\n",
            "units_6: 320\n",
            "units_7: 192\n",
            "units_8: 352\n",
            "units_9: 352\n",
            "units_10: 224\n",
            "units_11: 320\n",
            "units_12: 160\n",
            "units_13: 416\n",
            "units_14: 128\n",
            "units_15: 64\n",
            "units_16: 288\n",
            "units_17: 416\n",
            "units_18: 96\n",
            "units_19: 224\n",
            "Score: 0.7964000105857849\n",
            "Trial summary\n",
            "Hyperparameters:\n",
            "num_layers: 16\n",
            "units_0: 256\n",
            "learning_rate: 0.0001\n",
            "units_1: 288\n",
            "units_2: 320\n",
            "units_3: 416\n",
            "units_4: 224\n",
            "units_5: 352\n",
            "units_6: 480\n",
            "units_7: 416\n",
            "units_8: 448\n",
            "units_9: 128\n",
            "units_10: 416\n",
            "units_11: 448\n",
            "units_12: 224\n",
            "units_13: 480\n",
            "units_14: 320\n",
            "units_15: 352\n",
            "units_16: 64\n",
            "units_17: 320\n",
            "units_18: 320\n",
            "units_19: 384\n",
            "Score: 0.7964000105857849\n"
          ],
          "name": "stdout"
        }
      ]
    }
  ]
}